{
 "cells": [
  {
   "cell_type": "markdown",
   "metadata": {},
   "source": [
    "## AST Project 2\n",
    "### Collaborators: Arian Andalib, Ashley Stone, Jonathan Kho, Emma Oswald\n",
    "### Michigan State University\n",
    "### AST 304"
   ]
  },
  {
   "cell_type": "code",
   "execution_count": 91,
   "metadata": {},
   "outputs": [],
   "source": [
    "########################################################################\n",
    "# Team Spectacular Stellars: Arian Andalib, Ashley Stone, Jonathan Kho, Emma Oswald\n",
    "# AST 304, Fall 2022\n",
    "# Michigan State University\n",
    "########################################################################\n",
    "    \n",
    "# The libraries used\n",
    "import matplotlib.pyplot as plt\n",
    "import numpy as np\n",
    "import pandas as pd\n",
    "import scipy.constants as sc\n",
    "%matplotlib inline\n",
    "from eos import *\n",
    "from astro_const import *\n",
    "from observations import *\n",
    "from structure import *\n",
    "from test_eos import *\n",
    "from scipy.optimize import bisect\n",
    "import pandas as pd"
   ]
  },
  {
   "cell_type": "code",
   "execution_count": 26,
   "metadata": {},
   "outputs": [],
   "source": [
    "def f(Pc,Mwant,delta_m,eta,xi,mue):\n",
    "    m,r,p = integrate(Pc,delta_m,eta,xi,mue)\n",
    "    M = m[-1]\n",
    "    return(M-Mwant)"
   ]
  },
  {
   "cell_type": "code",
   "execution_count": 3,
   "metadata": {},
   "outputs": [],
   "source": [
    "# Calibrating alpha/beta for 2.6\n",
    "\n"
   ]
  },
  {
   "cell_type": "code",
   "execution_count": 21,
   "metadata": {},
   "outputs": [],
   "source": [
    "# 2.6 Testing integration\n",
    "\n",
    "M = Msun\n",
    "mue = 2\n",
    "\n",
    "Pguess = pressure_guess(M,mue)\n",
    "\n",
    "delta_m = 1e-4\n",
    "eta = 1e-6\n",
    "xi = 0.01\n",
    "\n",
    "m,r,p = integrate(Pguess,delta_m,eta,xi,mue)\n"
   ]
  },
  {
   "cell_type": "code",
   "execution_count": 47,
   "metadata": {},
   "outputs": [],
   "source": [
    "masses = Msun*np.arange(0.1,1.1,0.1)\n",
    "Pcs = np.zeros(10)\n",
    "Pguesses = np.zeros(10)\n",
    "\n",
    "for i in range(len(masses)):\n",
    "    Pguess = pressure_guess(masses[i],mue)\n",
    "    Pguesses[i] = Pguess\n",
    "    Pc = bisect(f,Pguess/100,Pguess,args = (masses[i],delta_m,eta,xi,mue))\n",
    "    Pcs[i] = Pc"
   ]
  },
  {
   "cell_type": "code",
   "execution_count": 51,
   "metadata": {},
   "outputs": [
    {
     "data": {
      "text/plain": [
       "array([40.09269443, 40.09270145, 40.0926923 , 40.09269571, 40.09270147,\n",
       "       40.09269932, 40.09269657, 40.09270274, 40.09270293, 40.09269572])"
      ]
     },
     "execution_count": 51,
     "metadata": {},
     "output_type": "execute_result"
    }
   ],
   "source": [
    "# For 2.6 calibration: off by this factor\n",
    "Pguesses/Pcs"
   ]
  },
  {
   "cell_type": "code",
   "execution_count": 48,
   "metadata": {},
   "outputs": [
    {
     "data": {
      "text/plain": [
       "array([4.06315457e+07, 1.62526166e+08, 3.65683923e+08, 6.50104719e+08,\n",
       "       1.01578854e+09, 1.46273554e+09, 1.99094568e+09, 2.60041860e+09,\n",
       "       3.29115478e+09, 4.06315449e+09])"
      ]
     },
     "execution_count": 48,
     "metadata": {},
     "output_type": "execute_result"
    }
   ],
   "source": [
    "central_pres = density(Pcs,2)\n",
    "central_pres"
   ]
  },
  {
   "cell_type": "code",
   "execution_count": 50,
   "metadata": {},
   "outputs": [],
   "source": [
    "Radii = np.zeros(10)\n",
    "\n",
    "for i in range(len(masses)):\n",
    "    m,r,p = integrate(Pcs[i],delta_m,eta,xi,mue)\n",
    "    Radii[i] = r[-1]"
   ]
  },
  {
   "cell_type": "code",
   "execution_count": 52,
   "metadata": {},
   "outputs": [],
   "source": [
    "R = Radii/Rsun\n",
    "Pcsnorm = Pcs/(G*(masses**2)*Radii**(-4))\n",
    "central_pres_norm = central_pres/((3*masses)/(4*np.pi*Radii**(3)))"
   ]
  },
  {
   "cell_type": "code",
   "execution_count": 89,
   "metadata": {},
   "outputs": [
    {
     "data": {
      "text/html": [
       "<div>\n",
       "<style scoped>\n",
       "    .dataframe tbody tr th:only-of-type {\n",
       "        vertical-align: middle;\n",
       "    }\n",
       "\n",
       "    .dataframe tbody tr th {\n",
       "        vertical-align: top;\n",
       "    }\n",
       "\n",
       "    .dataframe thead th {\n",
       "        text-align: right;\n",
       "    }\n",
       "</style>\n",
       "<table border=\"1\" class=\"dataframe\">\n",
       "  <thead>\n",
       "    <tr style=\"text-align: right;\">\n",
       "      <th></th>\n",
       "      <th>$R/R_\\odot$</th>\n",
       "      <th>$P_c$</th>\n",
       "      <th>$P_c/(GM^2R^-4)$</th>\n",
       "      <th>$\\rho_c$</th>\n",
       "      <th>$\\rho_c/(3M/4piR^3)$</th>\n",
       "    </tr>\n",
       "    <tr>\n",
       "      <th>$M/M_\\odot$</th>\n",
       "      <th></th>\n",
       "      <th></th>\n",
       "      <th></th>\n",
       "      <th></th>\n",
       "      <th></th>\n",
       "    </tr>\n",
       "  </thead>\n",
       "  <tbody>\n",
       "    <tr>\n",
       "      <th>0.1</th>\n",
       "      <td>0.027348</td>\n",
       "      <td>1.518033e+19</td>\n",
       "      <td>0.753813</td>\n",
       "      <td>4.063155e+07</td>\n",
       "      <td>5.895168</td>\n",
       "    </tr>\n",
       "    <tr>\n",
       "      <th>0.2</th>\n",
       "      <td>0.021707</td>\n",
       "      <td>1.530081e+20</td>\n",
       "      <td>0.753849</td>\n",
       "      <td>1.625262e+08</td>\n",
       "      <td>5.895376</td>\n",
       "    </tr>\n",
       "    <tr>\n",
       "      <th>0.3</th>\n",
       "      <td>0.018962</td>\n",
       "      <td>5.911331e+20</td>\n",
       "      <td>0.753802</td>\n",
       "      <td>3.656839e+08</td>\n",
       "      <td>5.895104</td>\n",
       "    </tr>\n",
       "    <tr>\n",
       "      <th>0.4</th>\n",
       "      <td>0.017228</td>\n",
       "      <td>1.542225e+21</td>\n",
       "      <td>0.753820</td>\n",
       "      <td>6.501047e+08</td>\n",
       "      <td>5.895205</td>\n",
       "    </tr>\n",
       "    <tr>\n",
       "      <th>0.5</th>\n",
       "      <td>0.015993</td>\n",
       "      <td>3.244748e+21</td>\n",
       "      <td>0.753849</td>\n",
       "      <td>1.015789e+09</td>\n",
       "      <td>5.895376</td>\n",
       "    </tr>\n",
       "    <tr>\n",
       "      <th>0.6</th>\n",
       "      <td>0.015050</td>\n",
       "      <td>5.958247e+21</td>\n",
       "      <td>0.753838</td>\n",
       "      <td>1.462736e+09</td>\n",
       "      <td>5.895312</td>\n",
       "    </tr>\n",
       "    <tr>\n",
       "      <th>0.7</th>\n",
       "      <td>0.014297</td>\n",
       "      <td>9.960348e+21</td>\n",
       "      <td>0.753824</td>\n",
       "      <td>1.990946e+09</td>\n",
       "      <td>5.895231</td>\n",
       "    </tr>\n",
       "    <tr>\n",
       "      <th>0.8</th>\n",
       "      <td>0.013674</td>\n",
       "      <td>1.554465e+22</td>\n",
       "      <td>0.753855</td>\n",
       "      <td>2.600419e+09</td>\n",
       "      <td>5.895414</td>\n",
       "    </tr>\n",
       "    <tr>\n",
       "      <th>0.9</th>\n",
       "      <td>0.013148</td>\n",
       "      <td>2.301915e+22</td>\n",
       "      <td>0.753856</td>\n",
       "      <td>3.291155e+09</td>\n",
       "      <td>5.895420</td>\n",
       "    </tr>\n",
       "    <tr>\n",
       "      <th>1.0</th>\n",
       "      <td>0.012694</td>\n",
       "      <td>3.270502e+22</td>\n",
       "      <td>0.753820</td>\n",
       "      <td>4.063154e+09</td>\n",
       "      <td>5.895206</td>\n",
       "    </tr>\n",
       "  </tbody>\n",
       "</table>\n",
       "</div>"
      ],
      "text/plain": [
       "             $R/R_\\odot$         $P_c$  $P_c/(GM^2R^-4)$      $\\rho_c$  \\\n",
       "$M/M_\\odot$                                                              \n",
       "0.1             0.027348  1.518033e+19          0.753813  4.063155e+07   \n",
       "0.2             0.021707  1.530081e+20          0.753849  1.625262e+08   \n",
       "0.3             0.018962  5.911331e+20          0.753802  3.656839e+08   \n",
       "0.4             0.017228  1.542225e+21          0.753820  6.501047e+08   \n",
       "0.5             0.015993  3.244748e+21          0.753849  1.015789e+09   \n",
       "0.6             0.015050  5.958247e+21          0.753838  1.462736e+09   \n",
       "0.7             0.014297  9.960348e+21          0.753824  1.990946e+09   \n",
       "0.8             0.013674  1.554465e+22          0.753855  2.600419e+09   \n",
       "0.9             0.013148  2.301915e+22          0.753856  3.291155e+09   \n",
       "1.0             0.012694  3.270502e+22          0.753820  4.063154e+09   \n",
       "\n",
       "             $\\rho_c/(3M/4piR^3)$  \n",
       "$M/M_\\odot$                        \n",
       "0.1                      5.895168  \n",
       "0.2                      5.895376  \n",
       "0.3                      5.895104  \n",
       "0.4                      5.895205  \n",
       "0.5                      5.895376  \n",
       "0.6                      5.895312  \n",
       "0.7                      5.895231  \n",
       "0.8                      5.895414  \n",
       "0.9                      5.895420  \n",
       "1.0                      5.895206  "
      ]
     },
     "execution_count": 89,
     "metadata": {},
     "output_type": "execute_result"
    }
   ],
   "source": [
    "array = np.array([masses/Msun,R,Pcs,Pcsnorm,central_pres,central_pres_norm])\n",
    "MRdf = pd.DataFrame(array,index = [\"$M/M_\\odot$\",\"$R/R_\\odot$\",\n",
    "                                   \"$P_c$\",\"$P_c/(GM^2R^-4)$\",\"$\\rho_c$\",\n",
    "                                   \"$\\rho_c/(3M/4piR^3)$\"]).transpose()\n",
    "MRdf.set_index(\"$M/M_\\odot$\")"
   ]
  },
  {
   "cell_type": "code",
   "execution_count": 131,
   "metadata": {},
   "outputs": [
    {
     "data": {
      "text/plain": [
       "<matplotlib.legend.Legend at 0x7fe1c8a35490>"
      ]
     },
     "execution_count": 131,
     "metadata": {},
     "output_type": "execute_result"
    },
    {
     "data": {
      "image/png": "[encoded data removed]",
      "text/plain": [
       "<Figure size 1080x720 with 1 Axes>"
      ]
     },
     "metadata": {
      "needs_background": "light"
     },
     "output_type": "display_data"
    }
   ],
   "source": [
    "plt.figure(figsize = (15,10))\n",
    "plt.plot(MRdf[\"$R/R_\\odot$\"],MRdf[\"$M/M_\\odot$\"],label = \"Calculated\",lw = 3)\n",
    "plt.scatter(obs.radii/100,obs.masses,label = \"Observed\",color = \"Red\",s = 50)\n",
    "plt.grid()\n",
    "plt.ylabel(\"$M/M_\\odot$\",size = 25)\n",
    "plt.xlabel(\"$R/R_\\odot$\",size = 25)\n",
    "plt.title(\"Mass vs. Radius for degenerate white dwarf stars\",size = 25)\n",
    "plt.legend()"
   ]
  }
 ],
 "metadata": {
  "kernelspec": {
   "display_name": "Python 3 (ipykernel)",
   "language": "python",
   "name": "python3"
  },
  "language_info": {
   "codemirror_mode": {
    "name": "ipython",
    "version": 3
   },
   "file_extension": ".py",
   "mimetype": "text/x-python",
   "name": "python",
   "nbconvert_exporter": "python",
   "pygments_lexer": "ipython3",
   "version": "3.8.12"
  }
 },
 "nbformat": 4,
 "nbformat_minor": 4
}
