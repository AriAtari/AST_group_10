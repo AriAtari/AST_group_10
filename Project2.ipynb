{
 "cells": [
  {
   "cell_type": "markdown",
   "metadata": {},
   "source": [
    "## AST Project 2\n",
    "### Collaborators: Arian Andalib, Ashley Stone, Jonathan Kho, Emma Oswald\n",
    "### Michigan State University\n",
    "### AST 304"
   ]
  },
  {
   "cell_type": "code",
   "execution_count": 1,
   "metadata": {},
   "outputs": [],
   "source": [
    "########################################################################\n",
    "# Team Spectacular Stellars: Arian Andalib, Ashley Stone, Jonathan Kho, Emma Oswald\n",
    "# AST 304, Fall 2022\n",
    "# Michigan State University\n",
    "########################################################################\n",
    "    \n",
    "# The libraries used\n",
    "import matplotlib.pyplot as plt\n",
    "import numpy as np\n",
    "import pandas as pd\n",
    "import scipy.constants as sc\n",
    "%matplotlib inline\n",
    "from eos import *\n",
    "from astro_const import *\n",
    "from observations import *\n",
    "from structure import *\n",
    "from test_eos import *\n",
    "from scipy.optimize import bisect\n",
    "import pandas as pd"
   ]
  },
  {
   "cell_type": "code",
   "execution_count": 2,
   "metadata": {},
   "outputs": [
    {
     "name": "stdout",
     "output_type": "stream",
     "text": [
      "Comparing EOS to eos_table.txt...\n",
      "\n",
      "   rho (table)    rho (test)    difference       P (table)      P (test)    difference\n",
      "\n",
      "  1.000000e+05  1.000000e+05  5.820766e-16    6.810445e+14  6.810445e+14  0.000000e+00\n",
      "  1.123655e+05  1.123655e+05  1.295052e-16    8.271108e+14  8.271108e+14  7.556424e-16\n",
      "  1.262600e+05  1.262600e+05  9.220284e-16    1.004504e+15  1.004504e+15 -7.466368e-16\n",
      "  1.418727e+05  1.418727e+05  4.102810e-16    1.219944e+15  1.219944e+15  2.049274e-16\n",
      "  1.594159e+05  1.594159e+05  1.825654e-16    1.481591e+15  1.481591e+15  6.749502e-16\n",
      "  1.791284e+05  1.791284e+05  6.498986e-16    1.799353e+15  1.799353e+15 -1.389388e-16\n",
      "  2.012785e+05  2.012785e+05  7.229740e-16    2.185268e+15  2.185268e+15 -3.432074e-16\n",
      "  2.261676e+05  2.261676e+05  5.147303e-16    2.653950e+15  2.653950e+15  1.883984e-16\n",
      "  2.541343e+05  2.541343e+05  5.726073e-16    3.223153e+15  3.223153e+15  0.000000e+00\n",
      "  2.855592e+05  2.855592e+05  8.153497e-16    3.914436e+15  3.914436e+15 -3.831970e-16\n",
      "  3.208700e+05  3.208700e+05  5.442172e-16    4.753980e+15  4.753980e+15 -2.103501e-16\n",
      "  3.605471e+05  3.605471e+05  4.843278e-16    5.773585e+15  5.773585e+15  0.000000e+00\n",
      "  4.051305e+05  4.051305e+05  5.747053e-16    7.011868e+15  7.011868e+15 -1.426153e-16\n",
      "  4.552268e+05  4.552268e+05  5.114607e-16    8.515731e+15  8.515731e+15  1.174297e-16\n",
      "  5.115178e+05  5.115178e+05  6.827640e-16    1.034213e+16  1.034213e+16 -3.867674e-16\n",
      "  5.747694e+05  5.747694e+05  6.076279e-16    1.256025e+16  1.256025e+16 -1.592325e-16\n",
      "  6.458424e+05  6.458424e+05  5.407603e-16    1.525410e+16  1.525410e+16  0.000000e+00\n",
      "  7.257040e+05  7.257040e+05  6.416684e-16    1.852570e+16  1.852570e+16 -2.159163e-16\n",
      "  8.154407e+05  8.154407e+05  4.282910e-16    2.249898e+16  2.249898e+16  1.777858e-16\n",
      "  9.162739e+05  9.162739e+05  5.082119e-16    2.732442e+16  2.732442e+16  0.000000e+00\n",
      "  1.029576e+06  1.029576e+06  3.392135e-16    3.318480e+16  3.318480e+16  2.410742e-16\n",
      "  1.156888e+06  1.156888e+06  8.050243e-16    4.030207e+16  4.030207e+16 -5.955028e-16\n",
      "  1.299942e+06  1.299942e+06  5.373254e-16    4.894582e+16  4.894582e+16  0.000000e+00\n",
      "  1.460686e+06  1.460686e+06  3.187962e-16    5.944342e+16  5.944342e+16  4.037453e-16\n",
      "  1.641307e+06  1.641307e+06  5.674273e-16    7.219248e+16  7.219248e+16  0.000000e+00\n",
      "  1.844263e+06  1.844263e+06  5.049837e-16    8.767588e+16  8.767588e+16  1.824903e-16\n",
      "  2.072315e+06  2.072315e+06  6.741176e-16    1.064801e+17  1.064801e+17  0.000000e+00\n",
      "  2.328566e+06  2.328566e+06  1.999777e-16    1.293173e+17  1.293173e+17  4.949068e-16\n",
      "  2.616505e+06  2.616505e+06  3.559415e-16    1.570524e+17  1.570524e+17  2.037536e-16\n",
      "  2.940048e+06  2.940048e+06  6.335424e-16    1.907361e+17  1.907361e+17  0.000000e+00\n",
      "  3.303599e+06  3.303599e+06  4.228672e-16    2.316440e+17  2.316440e+17  2.762860e-16\n",
      "  3.712105e+06  3.712105e+06  5.017760e-16    2.813256e+17  2.813256e+17  0.000000e+00\n",
      "  4.171125e+06  4.171125e+06  5.581963e-16    3.416626e+17  3.416626e+17  0.000000e+00\n",
      "  4.686904e+06  4.686904e+06  3.974148e-16    4.149403e+17  4.149403e+17  3.084781e-16\n",
      "  5.266462e+06  5.266462e+06  5.305208e-16    5.039342e+17  5.039342e+17  1.270007e-16\n",
      "  5.917686e+06  5.917686e+06  6.295181e-16    6.120149e+17  6.120149e+17 -2.091452e-16\n",
      "  6.649436e+06  6.649436e+06  5.602415e-16    7.432761e+17  7.432761e+17  0.000000e+00\n",
      "  7.471671e+06  7.471671e+06  4.985887e-16    9.026895e+17  9.026895e+17  1.417985e-16\n",
      "  8.395579e+06  8.395579e+06  6.655807e-16    1.096293e+18  1.096293e+18 -1.167571e-16\n",
      "  9.433732e+06  9.433732e+06  5.923356e-16    1.331419e+18  1.331419e+18 -1.922761e-16\n",
      "  1.060026e+07  1.060026e+07  8.785848e-16    1.616974e+18  1.616974e+18 -6.332818e-16\n",
      "  1.191103e+07  1.191103e+07  3.127597e-16    1.963772e+18  1.963772e+18  3.910841e-16\n",
      "  1.338389e+07  1.338389e+07  9.741950e-16    2.384950e+18  2.384950e+18 -4.293591e-16\n",
      "  1.503887e+07  1.503887e+07  6.192770e-16    2.896460e+18  2.896460e+18 -1.767675e-16\n",
      "  1.689850e+07  1.689850e+07  8.818039e-16    3.517675e+18  3.517675e+18 -4.366521e-16\n",
      "  1.898808e+07  1.898808e+07  5.885730e-16    4.272124e+18  4.272124e+18 -2.396934e-16\n",
      "  2.133605e+07  2.133605e+07  5.238024e-16    5.188383e+18  5.188383e+18  1.973640e-16\n",
      "  2.397435e+07  2.397435e+07  6.215460e-16    6.301156e+18  6.301156e+18 -1.625099e-16\n",
      "  2.693889e+07  2.693889e+07  6.914334e-16    7.652589e+18  7.652589e+18 -4.014327e-16\n",
      "  3.027002e+07  3.027002e+07  7.384119e-16    9.293870e+18  9.293870e+18 -4.407206e-16\n",
      "  3.401305e+07  3.401305e+07  4.381013e-16    1.128716e+19  1.128716e+19  3.628901e-16\n",
      "  3.821893e+07  3.821893e+07  9.747240e-16    1.370796e+19  1.370796e+19 -5.976088e-16\n",
      "  4.294488e+07  4.294488e+07  5.204751e-16    1.664797e+19  1.664797e+19  0.000000e+00\n",
      "  4.825522e+07  4.825522e+07  3.087989e-16    2.021852e+19  2.021852e+19  4.051731e-16\n",
      "  5.422221e+07  5.422221e+07  5.496331e-16    2.455486e+19  2.455486e+19  1.668101e-16\n",
      "  6.092705e+07  6.092705e+07  6.114346e-16    2.982124e+19  2.982124e+19 -1.373518e-16\n",
      "  6.846097e+07  6.846097e+07  6.529777e-16    3.621712e+19  3.621712e+19 -1.130957e-16\n",
      "  7.692650e+07  7.692650e+07  5.811195e-16    4.398475e+19  4.398475e+19 -1.862464e-16\n",
      "  8.643883e+07  8.643883e+07  5.171690e-16    5.341833e+19  5.341833e+19  0.000000e+00\n",
      "  9.712740e+07  9.712740e+07  6.136749e-16    6.487516e+19  6.487516e+19  0.000000e+00\n",
      "  1.091377e+08  1.091377e+08  4.096064e-16    7.878919e+19  7.878919e+19  2.079473e-16\n",
      "  1.226331e+08  1.226331e+08  9.720811e-16    9.568742e+19  9.568742e+19 -5.136726e-16\n",
      "  1.377972e+08  1.377972e+08  6.488299e-16    1.162099e+20  1.162099e+20 -1.409863e-16\n",
      "  1.548365e+08  1.548365e+08  3.849521e-16    1.411339e+20  1.411339e+20  4.643535e-16\n",
      "  1.739828e+08  1.739828e+08  6.851786e-16    1.714034e+20  1.714034e+20 -1.911748e-16\n",
      "  1.954966e+08  1.954966e+08  3.048884e-16    2.081649e+20  2.081649e+20  4.722409e-16\n",
      "  2.196707e+08  2.196707e+08  8.140090e-16    2.528109e+20  2.528109e+20 -5.184587e-16\n",
      "  2.468340e+08  2.468340e+08  4.829532e-16    3.070322e+20  3.070322e+20  0.000000e+00\n",
      "  2.773563e+08  2.773563e+08  4.298057e-16    3.728826e+20  3.728826e+20  3.515101e-16\n",
      "  3.116527e+08  3.116527e+08  7.650137e-16    4.528562e+20  4.528562e+20 -2.894340e-16\n",
      "  3.501900e+08  3.501900e+08  6.808263e-16    5.499820e+20  5.499820e+20  0.000000e+00\n",
      "  3.934927e+08  3.934927e+08  6.059034e-16    6.679388e+20  6.679388e+20  0.000000e+00\n",
      "  4.421500e+08  4.421500e+08  5.392256e-16    8.111943e+20  8.111943e+20  0.000000e+00\n",
      "  4.968240e+08  4.968240e+08  7.198281e-16    9.851743e+20  9.851743e+20 -2.660890e-16\n",
      "  5.582586e+08  5.582586e+08  4.270755e-16    1.196468e+21  1.196468e+21  2.190981e-16\n",
      "  6.272900e+08  6.272900e+08  5.701157e-16    1.453080e+21  1.453080e+21  1.804058e-16\n",
      "  7.048574e+08  7.048574e+08  5.073762e-16    1.764727e+21  1.764727e+21  1.485465e-16\n",
      "  7.920164e+08  7.920164e+08  6.020546e-16    2.143215e+21  2.143215e+21  2.446268e-16\n",
      "  8.899530e+08  8.899530e+08  4.018503e-16    2.602879e+21  2.602879e+21  4.028524e-16\n",
      "  1.000000e+09  1.000000e+09  3.576279e-16    3.161129e+21  3.161129e+21  3.317094e-16\n",
      "\n",
      "SUCCESS: all values within tolerance\n"
     ]
    }
   ],
   "source": [
    "# 2.2\n",
    "!python test_eos.py"
   ]
  },
  {
   "cell_type": "code",
   "execution_count": 3,
   "metadata": {},
   "outputs": [],
   "source": [
    "def f(Pc,Mwant,delta_m,eta,xi,mue):\n",
    "    m,r,p = integrate(Pc,delta_m,eta,xi,mue)\n",
    "    M = m[-1]\n",
    "    return(M-Mwant)"
   ]
  },
  {
   "cell_type": "code",
   "execution_count": 4,
   "metadata": {},
   "outputs": [],
   "source": [
    "# 2.6 Testing integration\n",
    "# Here, we tested delta_m, eta, and xi to ensure that our values for m, r, and p didn't\n",
    "# change when these parameters were slightly adjusted\n",
    "\n",
    "M = Msun\n",
    "mue = 2\n",
    "\n",
    "Pguess = pressure_guess(M,mue)\n",
    "\n",
    "delta_m = 1e-4\n",
    "eta = 1e-11\n",
    "xi = 0.01\n",
    "\n",
    "m,r,p = integrate(Pguess,delta_m,eta,xi,mue)"
   ]
  },
  {
   "cell_type": "markdown",
   "metadata": {},
   "source": [
    "- We started with certain initial states for delta_m, eta, and xi. We then integrated with that function and kept reducing the delta_m value untill no noticle change in the value. After, we did the same process for eta and xi untill convergence. "
   ]
  },
  {
   "cell_type": "code",
   "execution_count": 5,
   "metadata": {},
   "outputs": [],
   "source": [
    "# masses = Msun*np.arange(0.1,1.1,0.1)\n",
    "# Pcs = np.zeros(10)\n",
    "# Pguesses = np.zeros(10)\n",
    "\n",
    "# for i in range(len(masses)):\n",
    "#     Pguess = pressure_guess(masses[i],mue)\n",
    "#     Pguesses[i] = Pguess\n",
    "#     Pc = bisect(f,Pguess/100,Pguess,args = (masses[i],delta_m,eta,xi,mue))\n",
    "#     Pcs[i] = Pc"
   ]
  },
  {
   "cell_type": "code",
   "execution_count": 6,
   "metadata": {},
   "outputs": [],
   "source": [
    "# For 2.6 calibration: off by this factor\n",
    "# Pguesses/Pcs "
   ]
  },
  {
   "cell_type": "markdown",
   "metadata": {},
   "source": [
    "The above code was used to find the factor by which our Pguess was off from the true value of the central pressure. This gave us the array array([40.09269443, 40.09270145, 40.0926923 , 40.09269571, 40.09270147, 40.09269932, 40.09269657, 40.09270274, 40.09270293, 40.09269572]), so we introduced a factor of 40.09269 to our pressure_guess function."
   ]
  },
  {
   "cell_type": "code",
   "execution_count": 7,
   "metadata": {},
   "outputs": [],
   "source": [
    "masses = Msun*np.arange(0.1,1.1,0.1)\n",
    "Pcs = np.zeros(10)\n",
    "Pguesses = np.zeros(10)\n",
    "\n",
    "for i in range(len(masses)):\n",
    "    Pguess = pressure_guess(masses[i],mue)\n",
    "    Pguesses[i] = Pguess\n",
    "    Pc = bisect(f,Pguess/10,Pguess*10,args = (masses[i],delta_m,eta,xi,mue))\n",
    "    Pcs[i] = Pc"
   ]
  },
  {
   "cell_type": "code",
   "execution_count": 8,
   "metadata": {},
   "outputs": [
    {
     "data": {
      "text/plain": [
       "array([1.00003213, 1.00003213, 1.00003213, 1.00003213, 1.00003213,\n",
       "       1.00003213, 1.00003213, 1.00003213, 1.00003213, 1.00003213])"
      ]
     },
     "execution_count": 8,
     "metadata": {},
     "output_type": "execute_result"
    }
   ],
   "source": [
    "Pguesses/Pcs "
   ]
  },
  {
   "cell_type": "code",
   "execution_count": 9,
   "metadata": {},
   "outputs": [
    {
     "data": {
      "text/plain": [
       "array([4.06307651e+07, 1.62523061e+08, 3.65676886e+08, 6.50092242e+08,\n",
       "       1.01576913e+09, 1.46270754e+09, 1.99090749e+09, 2.60036897e+09,\n",
       "       3.29109198e+09, 4.06307651e+09])"
      ]
     },
     "execution_count": 9,
     "metadata": {},
     "output_type": "execute_result"
    }
   ],
   "source": [
    "#2.7\n",
    "central_dens = density(Pcs,2)\n",
    "central_dens"
   ]
  },
  {
   "cell_type": "code",
   "execution_count": 10,
   "metadata": {},
   "outputs": [],
   "source": [
    "Radii = np.zeros(10)\n",
    "\n",
    "for i in range(len(masses)):\n",
    "    m,r,p = integrate(Pcs[i],delta_m,eta,xi,mue)\n",
    "    Radii[i] = r[-1]"
   ]
  },
  {
   "cell_type": "code",
   "execution_count": 11,
   "metadata": {},
   "outputs": [],
   "source": [
    "R = Radii/Rsun\n",
    "Pcsnorm = Pcs/(G*(masses**2)*Radii**(-4))\n",
    "central_dens_norm = central_dens/((3*masses)/(4*np.pi*Radii**(3)))"
   ]
  },
  {
   "cell_type": "code",
   "execution_count": 12,
   "metadata": {},
   "outputs": [
    {
     "data": {
      "text/html": [
       "<div>\n",
       "<style scoped>\n",
       "    .dataframe tbody tr th:only-of-type {\n",
       "        vertical-align: middle;\n",
       "    }\n",
       "\n",
       "    .dataframe tbody tr th {\n",
       "        vertical-align: top;\n",
       "    }\n",
       "\n",
       "    .dataframe thead th {\n",
       "        text-align: right;\n",
       "    }\n",
       "</style>\n",
       "<table border=\"1\" class=\"dataframe\">\n",
       "  <thead>\n",
       "    <tr style=\"text-align: right;\">\n",
       "      <th></th>\n",
       "      <th>$$\\dfrac{M}{M_{\\odot}}$$</th>\n",
       "      <th>$$\\dfrac{R}{R_\\odot}$$</th>\n",
       "      <th>$$P_c$$</th>\n",
       "      <th>$$\\dfrac{P_c}{GM^2R^{-4}}$$</th>\n",
       "      <th>$$\\rho_c$$</th>\n",
       "      <th>$$\\dfrac{\\rho_c}{\\dfrac{3M}{4\\pi R^3}}$$</th>\n",
       "    </tr>\n",
       "  </thead>\n",
       "  <tbody>\n",
       "    <tr>\n",
       "      <th>0</th>\n",
       "      <td>0.1</td>\n",
       "      <td>0.027494</td>\n",
       "      <td>1.517984e+19</td>\n",
       "      <td>0.769975</td>\n",
       "      <td>4.063077e+07</td>\n",
       "      <td>5.989740</td>\n",
       "    </tr>\n",
       "    <tr>\n",
       "      <th>1</th>\n",
       "      <td>0.2</td>\n",
       "      <td>0.021822</td>\n",
       "      <td>1.530032e+20</td>\n",
       "      <td>0.769975</td>\n",
       "      <td>1.625231e+08</td>\n",
       "      <td>5.989738</td>\n",
       "    </tr>\n",
       "    <tr>\n",
       "      <th>2</th>\n",
       "      <td>0.3</td>\n",
       "      <td>0.019063</td>\n",
       "      <td>5.911141e+20</td>\n",
       "      <td>0.769975</td>\n",
       "      <td>3.656769e+08</td>\n",
       "      <td>5.989740</td>\n",
       "    </tr>\n",
       "    <tr>\n",
       "      <th>3</th>\n",
       "      <td>0.4</td>\n",
       "      <td>0.017320</td>\n",
       "      <td>1.542176e+21</td>\n",
       "      <td>0.769975</td>\n",
       "      <td>6.500922e+08</td>\n",
       "      <td>5.989741</td>\n",
       "    </tr>\n",
       "    <tr>\n",
       "      <th>4</th>\n",
       "      <td>0.5</td>\n",
       "      <td>0.016078</td>\n",
       "      <td>3.244645e+21</td>\n",
       "      <td>0.769975</td>\n",
       "      <td>1.015769e+09</td>\n",
       "      <td>5.989738</td>\n",
       "    </tr>\n",
       "    <tr>\n",
       "      <th>5</th>\n",
       "      <td>0.6</td>\n",
       "      <td>0.015130</td>\n",
       "      <td>5.958057e+21</td>\n",
       "      <td>0.769975</td>\n",
       "      <td>1.462708e+09</td>\n",
       "      <td>5.989738</td>\n",
       "    </tr>\n",
       "    <tr>\n",
       "      <th>6</th>\n",
       "      <td>0.7</td>\n",
       "      <td>0.014373</td>\n",
       "      <td>9.960030e+21</td>\n",
       "      <td>0.769975</td>\n",
       "      <td>1.990907e+09</td>\n",
       "      <td>5.989741</td>\n",
       "    </tr>\n",
       "    <tr>\n",
       "      <th>7</th>\n",
       "      <td>0.8</td>\n",
       "      <td>0.013747</td>\n",
       "      <td>1.554416e+22</td>\n",
       "      <td>0.769975</td>\n",
       "      <td>2.600369e+09</td>\n",
       "      <td>5.989739</td>\n",
       "    </tr>\n",
       "    <tr>\n",
       "      <th>8</th>\n",
       "      <td>0.9</td>\n",
       "      <td>0.013218</td>\n",
       "      <td>2.301842e+22</td>\n",
       "      <td>0.769975</td>\n",
       "      <td>3.291092e+09</td>\n",
       "      <td>5.989739</td>\n",
       "    </tr>\n",
       "    <tr>\n",
       "      <th>9</th>\n",
       "      <td>1.0</td>\n",
       "      <td>0.012761</td>\n",
       "      <td>3.270397e+22</td>\n",
       "      <td>0.769975</td>\n",
       "      <td>4.063077e+09</td>\n",
       "      <td>5.989741</td>\n",
       "    </tr>\n",
       "  </tbody>\n",
       "</table>\n",
       "</div>"
      ],
      "text/plain": [
       "   $$\\dfrac{M}{M_{\\odot}}$$  $$\\dfrac{R}{R_\\odot}$$       $$P_c$$  \\\n",
       "0                       0.1                0.027494  1.517984e+19   \n",
       "1                       0.2                0.021822  1.530032e+20   \n",
       "2                       0.3                0.019063  5.911141e+20   \n",
       "3                       0.4                0.017320  1.542176e+21   \n",
       "4                       0.5                0.016078  3.244645e+21   \n",
       "5                       0.6                0.015130  5.958057e+21   \n",
       "6                       0.7                0.014373  9.960030e+21   \n",
       "7                       0.8                0.013747  1.554416e+22   \n",
       "8                       0.9                0.013218  2.301842e+22   \n",
       "9                       1.0                0.012761  3.270397e+22   \n",
       "\n",
       "   $$\\dfrac{P_c}{GM^2R^{-4}}$$    $$\\rho_c$$  \\\n",
       "0                     0.769975  4.063077e+07   \n",
       "1                     0.769975  1.625231e+08   \n",
       "2                     0.769975  3.656769e+08   \n",
       "3                     0.769975  6.500922e+08   \n",
       "4                     0.769975  1.015769e+09   \n",
       "5                     0.769975  1.462708e+09   \n",
       "6                     0.769975  1.990907e+09   \n",
       "7                     0.769975  2.600369e+09   \n",
       "8                     0.769975  3.291092e+09   \n",
       "9                     0.769975  4.063077e+09   \n",
       "\n",
       "   $$\\dfrac{\\rho_c}{\\dfrac{3M}{4\\pi R^3}}$$  \n",
       "0                                  5.989740  \n",
       "1                                  5.989738  \n",
       "2                                  5.989740  \n",
       "3                                  5.989741  \n",
       "4                                  5.989738  \n",
       "5                                  5.989738  \n",
       "6                                  5.989741  \n",
       "7                                  5.989739  \n",
       "8                                  5.989739  \n",
       "9                                  5.989741  "
      ]
     },
     "execution_count": 12,
     "metadata": {},
     "output_type": "execute_result"
    }
   ],
   "source": [
    "array = np.array([masses/Msun,R,Pcs,Pcsnorm,central_dens,central_dens_norm])\n",
    "MRdf = pd.DataFrame(array,index = [\"$\\dfrac{M}{M_{\\odot}}$\",\"$\\dfrac{R}{R_\\odot}$\",\n",
    "                                   \"$P_c$\",\"$\\dfrac{P_c}{GM^2R^{-4}}$\",\"$\\rho_c$\",\n",
    "                                   \"$\\dfrac{\\rho_c}{\\dfrac{3M}{4\\pi R^3}}$\"]).transpose()\n",
    "MRdf.columns = [\"$$\\dfrac{M}{M_{\\odot}}$$\",\"$$\\dfrac{R}{R_\\odot}$$\",\n",
    "                                   \"$$P_c$$\",\"$$\\dfrac{P_c}{GM^2R^{-4}}$$\",\"$$\\rho_c$$\",\n",
    "                                   \"$$\\dfrac{\\rho_c}{\\dfrac{3M}{4\\pi R^3}}$$\"]\n",
    "MRdf"
   ]
  },
  {
   "cell_type": "markdown",
   "metadata": {},
   "source": [
    "### Questions?\n",
    "\n",
    "- One way to do this is to adjust the step h so that it is always less than the scale over which the radius or pressure changes appreciably. What is this scale?\n",
    "- This last quantity is a check on our virial relation (14): is it the same for all masses? is it unusually large or small?\n"
   ]
  },
  {
   "cell_type": "markdown",
   "metadata": {},
   "source": [
    "- centeral pressure is about 0.77 $\\frac{GM^2}{R^4}$ and central density is around 5.99 $\\frac{3M}{4\\pi R^2}$"
   ]
  },
  {
   "cell_type": "code",
   "execution_count": 13,
   "metadata": {},
   "outputs": [
    {
     "ename": "NameError",
     "evalue": "name 'obs' is not defined",
     "output_type": "error",
     "traceback": [
      "\u001b[1;31m---------------------------------------------------------------------------\u001b[0m",
      "\u001b[1;31mNameError\u001b[0m                                 Traceback (most recent call last)",
      "\u001b[1;32m<ipython-input-13-bb54042423ab>\u001b[0m in \u001b[0;36m<module>\u001b[1;34m\u001b[0m\n\u001b[1;32m----> 1\u001b[1;33m \u001b[0mobs\u001b[0m\u001b[1;33m.\u001b[0m\u001b[0mmass_errors\u001b[0m\u001b[1;33m\u001b[0m\u001b[1;33m\u001b[0m\u001b[0m\n\u001b[0m",
      "\u001b[1;31mNameError\u001b[0m: name 'obs' is not defined"
     ]
    }
   ],
   "source": [
    "obs.mass_errors"
   ]
  },
  {
   "cell_type": "code",
   "execution_count": null,
   "metadata": {},
   "outputs": [],
   "source": [
    "obs.radius_errors"
   ]
  },
  {
   "cell_type": "code",
   "execution_count": null,
   "metadata": {
    "scrolled": false
   },
   "outputs": [],
   "source": [
    "obs = MassRadiusObservations()\n",
    "plt.figure(figsize = (15,10))\n",
    "plt.plot(MRdf['$$\\dfrac{M}{M_{\\odot}}$$'],MRdf[ '$$\\dfrac{R}{R_\\odot}$$'],label = \"Calculated\",lw = 3)\n",
    "plt.scatter(obs.masses,obs.radii/100,label = \"Observed\",color = \"Red\",s = 50)\n",
    "plt.grid()\n",
    "plt.xlabel(\"$M/M_\\odot$\",size = 25)\n",
    "plt.ylabel(\"$R/R_\\odot$\",size = 25)\n",
    "plt.title(\"Mass vs. Radius for degenerate white dwarf stars\",size = 25)\n",
    "plt.errorbar(obs.masses,obs.radii/100,0,obs.mass_errors,fmt=\",\",ecolor=\"black\",alpha=0.7,label=\"mass error\")\n",
    "plt.errorbar(obs.masses,obs.radii/100,obs.radius_errors/100,0,fmt=\",\",ecolor=\"red\",alpha=0.7,label=\"radius error\")\n",
    "plt.legend()\n",
    "plt.show()"
   ]
  },
  {
   "cell_type": "markdown",
   "metadata": {},
   "source": [
    "- Realism:\n",
    "    Our model is not exact but it closely resembles the actual observed data and certain points are within the actual values."
   ]
  },
  {
   "cell_type": "code",
   "execution_count": null,
   "metadata": {},
   "outputs": [],
   "source": []
  }
 ],
 "metadata": {
  "kernelspec": {
   "display_name": "Python 3",
   "language": "python",
   "name": "python3"
  },
  "language_info": {
   "codemirror_mode": {
    "name": "ipython",
    "version": 3
   },
   "file_extension": ".py",
   "mimetype": "text/x-python",
   "name": "python",
   "nbconvert_exporter": "python",
   "pygments_lexer": "ipython3",
   "version": "3.8.5"
  }
 },
 "nbformat": 4,
 "nbformat_minor": 4
}
